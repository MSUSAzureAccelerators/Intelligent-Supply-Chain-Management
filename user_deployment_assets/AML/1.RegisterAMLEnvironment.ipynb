{
  "cells": [
    {
      "cell_type": "code",
      "execution_count": 1,
      "metadata": {
        "gather": {
          "logged": 1675908628715
        }
      },
      "outputs": [
        {
          "name": "stdout",
          "output_type": "stream",
          "text": [
            "Workspace name: YOUR_AML_WORKSPACE\n",
            "Azure region: eastus\n",
            "Subscription id: YOUR_SUBSCRIPTION\n",
            "Resource group: YOUR_RESOURCE_GROUP\n"
          ]
        }
      ],
      "source": [
        "from azureml.core.compute import ComputeTarget\n",
        "from azureml.core.compute_target import ComputeTargetException\n",
        "from azureml.core.compute import AksCompute\n",
        "from azureml.core.workspace import Workspace\n",
        "from azureml.core.authentication import InteractiveLoginAuthentication\n",
        "from azureml.core import Workspace, Model, Datastore, Dataset\n",
        "\n",
        "subscription_id = 'YOUR_SUBSCRIPTION'\n",
        "resource_group = 'YOUR_RESOURCE_GROUP'\n",
        "workspace_name = 'YOUR_AML_WORKSPACE'\n",
        "\n",
        "auth = InteractiveLoginAuthentication()\n",
        "\n",
        "ws = Workspace.get(name=workspace_name,\n",
        "                   subscription_id=subscription_id,\n",
        "                   resource_group=resource_group,auth= auth)\n",
        "\n",
        "print('Workspace name: ' + ws.name, \n",
        "      'Azure region: ' + ws.location, \n",
        "      'Subscription id: ' + ws.subscription_id, \n",
        "      'Resource group: ' + ws.resource_group, sep = '\\n')\n",
        "\n",
        "datastore = ws.get_default_datastore()\n"
      ]
    },
    {
      "attachments": {},
      "cell_type": "markdown",
      "metadata": {
        "nteract": {
          "transient": {
            "deleting": false
          }
        }
      },
      "source": [
        "Installing Python 3.10 on Client\n",
        "\n",
        "```\n",
        "# compile python from source - avoid unsupported library problems\n",
        "RUN apt update -y && sudo apt upgrade -y && \\\n",
        "    apt-get install -y wget build-essential checkinstall  libreadline-gplv2-dev  libncursesw5-dev  libssl-dev  libsqlite3-dev tk-dev libgdbm-dev libc6-dev libbz2-dev libffi-dev zlib1g-dev && \\\n",
        "    cd /usr/src && \\\n",
        "    sudo wget https://www.python.org/ftp/python/3.8.10/Python-3.8.10.tgz && \\\n",
        "    sudo tar xzf Python-3.8.10.tgz && \\\n",
        "    cd Python-3.8.10 && \\\n",
        "    sudo ./configure --enable-optimizations && \\\n",
        "    sudo make altinstall\n",
        "```"
      ]
    },
    {
      "cell_type": "code",
      "execution_count": 2,
      "metadata": {
        "gather": {
          "logged": 1675908665826
        }
      },
      "outputs": [
        {
          "name": "stderr",
          "output_type": "stream",
          "text": [
            "Property environment_variables is deprecated. Use RunConfiguration.environment_variables to set runtime variables.\n",
            "Property base_image is mutually exclusive with base_dockerfile. Reset base_image to None\n",
            "Property environment_variables is deprecated. Use RunConfiguration.environment_variables to set runtime variables.\n"
          ]
        },
        {
          "data": {
            "text/plain": [
              "{\n",
              "    \"assetId\": \"azureml://locations/eastus/workspaces/5b0473ef-8a7f-412e-a5fc-1742cf0c4541/environments/supplychainray377/versions/1\",\n",
              "    \"databricks\": {\n",
              "        \"eggLibraries\": [],\n",
              "        \"jarLibraries\": [],\n",
              "        \"mavenLibraries\": [],\n",
              "        \"pypiLibraries\": [],\n",
              "        \"rcranLibraries\": []\n",
              "    },\n",
              "    \"docker\": {\n",
              "        \"arguments\": [],\n",
              "        \"baseDockerfile\": \"\\n\\nFROM mcr.microsoft.com/azureml/openmpi4.1.0-ubuntu20.04\\nUSER root:root\\n\\n# apt-get and system utilities\\nRUN apt-get update && apt-get install -y \\\\\\n   curl apt-utils apt-transport-https debconf-utils gcc build-essential g++\\\\\\n   && rm -rf /var/lib/apt/lists/*\\n# adding custom MS repository\\nRUN curl https://packages.microsoft.com/keys/microsoft.asc | apt-key add -\\nRUN curl https://packages.microsoft.com/config/ubuntu/18.04/prod.list > /etc/apt/sources.list.d/mssql-release.list\\n# install libssl - required for sqlcmd to work on Ubuntu 18.04\\nRUN apt-get update && apt-get install -y libssl1.1 libssl-dev\\n# install SQL Server drivers\\nRUN apt-get update && ACCEPT_EULA=Y apt-get install -y msodbcsql17 unixodbc-dev\\n# install SQL Server tools\\nRUN apt-get update && ACCEPT_EULA=Y apt-get install -y mssql-tools\\nRUN echo 'export PATH=\\\"$PATH:/opt/mssql-tools/bin\\\"' >> ~/.bashrc\\nRUN /bin/bash -c \\\"source ~/.bashrc\\\"\\n## 2/3/23 - GG installing python 3.10 \\n\\n# install necessary locales\\nRUN apt-get update && apt-get install -y locales \\\\\\n   && echo \\\"en_US.UTF-8 UTF-8\\\" > /etc/locale.gen\\nRUN pip install --upgrade pip\\n\",\n",
              "        \"baseImage\": null,\n",
              "        \"baseImageRegistry\": {\n",
              "            \"address\": null,\n",
              "            \"password\": null,\n",
              "            \"registryIdentity\": null,\n",
              "            \"username\": null\n",
              "        },\n",
              "        \"buildContext\": null,\n",
              "        \"enabled\": false,\n",
              "        \"platform\": {\n",
              "            \"architecture\": \"amd64\",\n",
              "            \"os\": \"Linux\"\n",
              "        },\n",
              "        \"sharedVolumes\": true,\n",
              "        \"shmSize\": null\n",
              "    },\n",
              "    \"environmentVariables\": {\n",
              "        \"SCORING_TIMEOUT_MS\": \"6000000\"\n",
              "    },\n",
              "    \"inferencingStackVersion\": \"latest\",\n",
              "    \"name\": \"supplychainray377\",\n",
              "    \"python\": {\n",
              "        \"baseCondaEnvironment\": null,\n",
              "        \"condaDependencies\": {\n",
              "            \"channels\": [\n",
              "                \"anaconda\",\n",
              "                \"conda-forge\"\n",
              "            ],\n",
              "            \"dependencies\": [\n",
              "                \"python=3.8.13\",\n",
              "                {\n",
              "                    \"pip\": [\n",
              "                        \"azureml-defaults\",\n",
              "                        \"orjson\",\n",
              "                        \"ray==2.2.0\",\n",
              "                        \"azure-ai-ml==1.2.0\",\n",
              "                        \"pyomo==5.7.3\",\n",
              "                        \"cplex==22.1.0.0\",\n",
              "                        \"pyodbc==4.0.35\",\n",
              "                        \"joblib==1.2.0\",\n",
              "                        \"sqlalchemy==1.4.44\",\n",
              "                        \"protobuf==4.21.11\",\n",
              "                        \"gluonts==0.11.4\",\n",
              "                        \"mxnet==1.9.1\"\n",
              "                    ]\n",
              "                },\n",
              "                \"pip\",\n",
              "                \"numpy==1.23.5\"\n",
              "            ],\n",
              "            \"name\": \"project_environment\"\n",
              "        },\n",
              "        \"condaDependenciesFile\": null,\n",
              "        \"interpreterPath\": \"python\",\n",
              "        \"userManagedDependencies\": false\n",
              "    },\n",
              "    \"r\": null,\n",
              "    \"spark\": {\n",
              "        \"packages\": [],\n",
              "        \"precachePackages\": true,\n",
              "        \"repositories\": []\n",
              "    },\n",
              "    \"version\": \"1\"\n",
              "}"
            ]
          },
          "execution_count": 2,
          "metadata": {},
          "output_type": "execute_result"
        }
      ],
      "source": [
        "### to update existing Webservice run this code here:\n",
        "\n",
        " #Ray Cluster deployment for UAT AKS Cluster\n",
        "\n",
        "from azureml.core.webservice import AksWebservice, Webservice\n",
        "from azureml.core.compute import AksCompute\n",
        "from azureml.core.model import Model\n",
        "\n",
        "from azureml.core.webservice import AciWebservice, Webservice\n",
        "from azureml.core.model import Model\n",
        "from azureml.core.model import InferenceConfig\n",
        "from azureml.core.webservice import AciWebservice\n",
        "from azureml.core import Environment\n",
        "from azureml.core.conda_dependencies import CondaDependencies\n",
        "import sklearn\n",
        "\n",
        "\n",
        "environment = Environment('supplychainray310')\n",
        "environment.environment_variables = {'SCORING_TIMEOUT_MS':6000000}\n",
        "\n",
        "\n",
        "dockerfile = r'''\n",
        "\n",
        "FROM mcr.microsoft.com/azureml/openmpi4.1.0-ubuntu20.04\n",
        "USER root:root\n",
        "\n",
        "# apt-get and system utilities\n",
        "RUN apt-get update && apt-get install -y \\\n",
        "   curl apt-utils apt-transport-https debconf-utils gcc build-essential g++\\\n",
        "   && rm -rf /var/lib/apt/lists/*\n",
        "# adding custom MS repository\n",
        "RUN curl https://packages.microsoft.com/keys/microsoft.asc | apt-key add -\n",
        "RUN curl https://packages.microsoft.com/config/ubuntu/18.04/prod.list > /etc/apt/sources.list.d/mssql-release.list\n",
        "# install libssl - required for sqlcmd to work on Ubuntu 18.04\n",
        "RUN apt-get update && apt-get install -y libssl1.1 libssl-dev\n",
        "# install SQL Server drivers\n",
        "RUN apt-get update && ACCEPT_EULA=Y apt-get install -y msodbcsql17 unixodbc-dev\n",
        "# install SQL Server tools\n",
        "RUN apt-get update && ACCEPT_EULA=Y apt-get install -y mssql-tools\n",
        "RUN echo 'export PATH=\"$PATH:/opt/mssql-tools/bin\"' >> ~/.bashrc\n",
        "RUN /bin/bash -c \"source ~/.bashrc\"\n",
        "## 2/3/23 - GG installing python 3.10 \n",
        "\n",
        "# install necessary locales\n",
        "RUN apt-get update && apt-get install -y locales \\\n",
        "   && echo \"en_US.UTF-8 UTF-8\" > /etc/locale.gen\n",
        "RUN pip install --upgrade pip\n",
        "'''\n",
        "\n",
        "\n",
        "# Set the base image to None, because the image is defined by Dockerfile.\n",
        "environment.docker.base_dockerfile = dockerfile\n",
        "environment.docker.base_image = None\n",
        "environment.inferencing_stack_version='latest'\n",
        "\n",
        "environment.environment_variables = {'SCORING_TIMEOUT_MS':6000000}\n",
        "\n",
        "conda_dep = CondaDependencies()\n",
        "\n",
        "# Installs packages now\n",
        "conda_dep.add_conda_package(\"pip\")\n",
        "conda_dep.add_pip_package(\"orjson\")\n",
        "conda_dep.add_pip_package(\"ray==2.2.0\")\n",
        "conda_dep.add_conda_package(\"numpy==1.23.5\")\n",
        "conda_dep.add_pip_package('azure-ai-ml==1.2.0')\n",
        "conda_dep.add_pip_package('pyomo==5.7.3')\n",
        "conda_dep.add_pip_package('cplex==22.1.0.0')\n",
        "conda_dep.add_pip_package(\"pyodbc==4.0.35\")\n",
        "conda_dep.add_pip_package(\"joblib==1.2.0\")\n",
        "conda_dep.add_pip_package(\"sqlalchemy==1.4.44\")\n",
        "conda_dep.add_pip_package(\"protobuf==4.21.11\")\n",
        "conda_dep.add_pip_package(\"gluonts==0.11.4\")\n",
        "conda_dep.add_pip_package(\"mxnet==1.9.1\")\n",
        "\n",
        "\n",
        "\n",
        "\n",
        "# Adds dependencies to PythonSection of myenv\n",
        "environment.python.conda_dependencies=conda_dep\n",
        "\n",
        "environment.register(ws)\n"
      ]
    },
    {
      "cell_type": "code",
      "execution_count": null,
      "metadata": {},
      "outputs": [],
      "source": []
    }
  ],
  "metadata": {
    "kernel_info": {
      "name": "supplychain310"
    },
    "kernelspec": {
      "display_name": "supplychain310",
      "language": "python",
      "name": "supplychain310"
    },
    "language_info": {
      "codemirror_mode": {
        "name": "ipython",
        "version": 3
      },
      "file_extension": ".py",
      "mimetype": "text/x-python",
      "name": "python",
      "nbconvert_exporter": "python",
      "pygments_lexer": "ipython3",
      "version": "3.10.4"
    },
    "microsoft": {
      "host": {
        "AzureML": {
          "notebookHasBeenCompleted": true
        }
      }
    },
    "nteract": {
      "version": "nteract-front-end@1.0.0"
    },
    "orig_nbformat": 4,
    "vscode": {
      "interpreter": {
        "hash": "6d65a8c07f5b6469e0fc613f182488c0dccce05038bbda39e5ac9075c0454d11"
      }
    }
  },
  "nbformat": 4,
  "nbformat_minor": 2
}
