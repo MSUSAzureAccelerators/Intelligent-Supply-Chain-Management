{
  "cells": [
    {
      "attachments": {},
      "cell_type": "markdown",
      "metadata": {
        "nteract": {
          "transient": {
            "deleting": false
          }
        }
      },
      "source": [
        "\n",
        "# Environment Definition for local debugging/run\n",
        "\n",
        "If you want to run the Solution Accelerator scripts locally on your Compute Instance, use the code below, and build a conda environment that has the same libraries used by all the Kubernetes services, as well as the forecast module.\n",
        "\n",
        "Make sure to follow the instructions below and let us know if there any issues or errors with it. Once the conda environment has been created, you can use activate it and use it in your Jupyter kernel.\n",
        "\n",
        "# Create a Conda Venv using python 3.8.5\n",
        "\n",
        "Open a Terminal browser inside your Compute Instance:\n",
        "\n",
        "```\n",
        "conda create -n supplychain python=3.8.5\n",
        "conda init bash\n",
        "```\n",
        "\n",
        "Now open a new terminal and follow these steps:\n",
        "\n",
        "```\n",
        "conda activate supplychain\n",
        "conda update -n base -c defaults conda\n",
        "conda install pip\n",
        "pip install azure-ai-ml gluonts[mxnet] ipython ipykernel matplotlib azureml-core azureml-dataprep pulp scipy ray mlflow pyodbc orjson\n",
        "ipython kernel install --user --name=supplychain\n",
        "---- Installed kernelspec supplychain in /home/azureuser/.local/share/jupyter/kernels/supplychain\n",
        "sudo systemctl restart jupyter.service\n",
        "------ This will close the terminal\n",
        "\n",
        "```\n",
        "\n",
        "If you create a conda environment based on an existing conda env made available by azureml, clone it and install the packages above. The process of cloning may take a while, so don't close the terminal window until you get a confirmation that the environment has been cloned and created. \n",
        "\n",
        "\n",
        "# Create a Conda Venv using python 3.10.4\n",
        "\n",
        "Open a Terminal browser inside your Compute Instance:\n",
        "\n",
        "```\n",
        "conda create -n supplychain310 python=3.10.4\n",
        "conda init bash\n",
        "```\n",
        "\n",
        "Now open a new terminal and follow these steps:\n",
        "\n",
        "```\n",
        "conda activate supplychain310\n",
        "conda update -n base -c defaults conda\n",
        "conda install pip\n",
        "pip install azure-ai-ml gluonts[mxnet] ipython ipykernel matplotlib azureml-core azureml-dataprep pulp scipy ray mlflow pyodbc orjson\n",
        "ipython kernel install --user --name=supplychain310\n",
        "---- Installed kernelspec supplychain310 in /home/azureuser/.local/share/jupyter/kernels/supplychain310\n",
        "sudo systemctl restart jupyter.service\n",
        "------ This will close the terminal\n",
        "\n",
        "```\n",
        "\n",
        "If you create a conda environment based on an existing conda env made available by azureml, clone it and install the packages above. The process of cloning may take a while, so don't close the terminal window until you get a confirmation that the environment has been cloned and created. \n",
        "\n",
        "# List all the existing conda environments on your compute\n",
        "\n",
        "For example, list all the existing conda environments:\n",
        "\n",
        "```\n",
        "conda env list\n",
        "# conda environments:\n",
        "#\n",
        "base                     /anaconda\n",
        "azureml_py310_sdkv2      /anaconda/envs/azureml_py310_sdkv2\n",
        "azureml_py38          *  /anaconda/envs/azureml_py38\n",
        "azureml_py38_PT_TF       /anaconda/envs/azureml_py38_PT_TF\n",
        "\n",
        "```\n",
        "# How to clone an existing azureml curated environment to create your own conda environment. Example made using python 3.8.5\n",
        "\n",
        "Let's clone the azureml_py38 environment and use it to install our packages:\n",
        "```\n",
        "conda create --name supplychain --clone azureml_py38\n",
        "conda activate supplychain\n",
        "conda update -n base -c defaults conda\n",
        "conda install pip\n",
        "pip install azure-ai-ml gluonts[mxnet] ipython ipykernel matplotlib azureml-core azureml-dataprep pulp gurobipy scipy ray mlflow pyodbc orjson\n",
        "ipython kernel install --user --name=supplychain\n",
        "---- Installed kernelspec supplychain in /home/azureuser/.local/share/jupyter/kernels/supplychain\n",
        "sudo systemctl restart jupyter.service\n",
        "------ This will close the terminal\n",
        "```\n",
        "\n",
        "\n",
        "\n"
      ]
    },
    {
      "cell_type": "code",
      "execution_count": null,
      "metadata": {
        "jupyter": {
          "outputs_hidden": false,
          "source_hidden": false
        },
        "nteract": {
          "transient": {
            "deleting": false
          }
        }
      },
      "outputs": [],
      "source": []
    }
  ],
  "metadata": {
    "kernel_info": {
      "name": "python3"
    },
    "kernelspec": {
      "display_name": "supplychain310",
      "language": "python",
      "name": "python3"
    },
    "language_info": {
      "codemirror_mode": {
        "name": "ipython",
        "version": 3
      },
      "file_extension": ".py",
      "mimetype": "text/x-python",
      "name": "python",
      "nbconvert_exporter": "python",
      "pygments_lexer": "ipython3",
      "version": "3.10.4"
    },
    "nteract": {
      "version": "nteract-front-end@1.0.0"
    },
    "vscode": {
      "interpreter": {
        "hash": "5bc5ec71032be5ed1efcd49a1872d37a58a299686ac0467b8069aeda148c9ae3"
      }
    }
  },
  "nbformat": 4,
  "nbformat_minor": 0
}
