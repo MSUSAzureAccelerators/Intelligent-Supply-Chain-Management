{
  "cells": [
    {
      "cell_type": "markdown",
      "metadata": {
        "nteract": {
          "transient": {
            "deleting": false
          }
        }
      },
      "source": [
        "# Set up\n",
        "\n",
        "Import required packages and set up the workspace."
      ]
    },
    {
      "cell_type": "code",
      "execution_count": 1,
      "metadata": {
        "jupyter": {
          "outputs_hidden": false,
          "source_hidden": false
        },
        "nteract": {
          "transient": {
            "deleting": false
          }
        }
      },
      "outputs": [],
      "source": [
        "import matplotlib.pyplot as plt\n",
        "import random\n",
        "import numpy as np\n",
        "import pandas as pd\n",
        "import json\n",
        "from datetime import datetime, timedelta\n",
        "from azureml.core import Workspace, Datastore, Dataset, Experiment\n",
        "from azureml.data.datapath import DataPath\n",
        "\n",
        "workspace = Workspace.from_config()"
      ]
    },
    {
      "cell_type": "markdown",
      "metadata": {
        "nteract": {
          "transient": {
            "deleting": false
          }
        }
      },
      "source": [
        "# Synthesize and Register Dataset\n",
        "\n",
        "In this section, we generate synthesized sales history data with three possible generation modes: (1) Random, (2) Sinusoid, and (3) Sparse to represent different sales data behaviors. Consider replacing with real sales data when using this solution accelerator in your own project."
      ]
    },
    {
      "cell_type": "code",
      "execution_count": 2,
      "metadata": {
        "jupyter": {
          "outputs_hidden": false,
          "source_hidden": false
        },
        "nteract": {
          "transient": {
            "deleting": false
          }
        }
      },
      "outputs": [],
      "source": [
        "from enum import Enum\n",
        "\n",
        "class SalesDataModel(Enum):\n",
        "    RANDOM = 0\n",
        "    SINUSOID = 1\n",
        "    SPARSE = 2"
      ]
    },
    {
      "cell_type": "markdown",
      "metadata": {
        "nteract": {
          "transient": {
            "deleting": false
          }
        }
      },
      "source": [
        "The Sales Data Generator generates a dataframe with the following attributes: Item, Location, Sales, and Item Class. "
      ]
    },
    {
      "cell_type": "code",
      "execution_count": 3,
      "metadata": {
        "jupyter": {
          "outputs_hidden": false,
          "source_hidden": false
        },
        "nteract": {
          "transient": {
            "deleting": false
          }
        }
      },
      "outputs": [],
      "source": [
        "from typing import List, Mapping\n",
        "\n",
        "class SalesDataGenerator:\n",
        "    def __init__(\n",
        "        self,\n",
        "        start_date: datetime,\n",
        "        num_days: int,\n",
        "        item_to_location: Mapping[str, List[str]],\n",
        "        item_to_class: Mapping[str, List[str]],\n",
        "        min_sales_per_day: int = 0,\n",
        "        max_sales_per_day: int = 1000,\n",
        "    ):\n",
        "        self.start_date = start_date\n",
        "        self.num_days = num_days\n",
        "        self.item_to_location = item_to_location\n",
        "        self.item_to_class = item_to_class\n",
        "        self.min_sales_per_day = min_sales_per_day\n",
        "        self.max_sales_per_day = max_sales_per_day\n",
        "\n",
        "    def synthesize(self, data_model: SalesDataModel = SalesDataModel.RANDOM):\n",
        "        sales_df = pd.DataFrame(columns=[\"Date\", \"Item\", \"Location\", \"Sales\"])\n",
        "        for item, locations in self.item_to_location.items():\n",
        "            for location in locations:\n",
        "                if data_model == SalesDataModel.RANDOM:\n",
        "                    sales = np.random.randint(\n",
        "                        self.min_sales_per_day, self.max_sales_per_day, self.num_days\n",
        "                    )\n",
        "                elif data_model == SalesDataModel.SINUSOID:\n",
        "                    alpha = 0.9\n",
        "                    gain = alpha * (self.max_sales_per_day - self.min_sales_per_day)\n",
        "                    periods = np.random.randint(1, 6, 1)\n",
        "                    nn = np.linspace(0, int(periods), self.num_days)\n",
        "                    base_sales = (\n",
        "                        gain * np.abs(np.cos(np.pi * nn))\n",
        "                        + alpha * self.min_sales_per_day\n",
        "                    )\n",
        "                    noise = np.random.randint(\n",
        "                        (1 - alpha) * self.min_sales_per_day,\n",
        "                        (1 - alpha) * self.max_sales_per_day,\n",
        "                        self.num_days,\n",
        "                    )\n",
        "                    sales = base_sales + noise\n",
        "                    sales = sales.astype(int).tolist()\n",
        "                elif data_model == SalesDataModel.SPARSE:\n",
        "                    thresh = 0.1\n",
        "                    sales = [\n",
        "                        0\n",
        "                        if np.random.rand() > thresh\n",
        "                        else np.random.randint(\n",
        "                            self.min_sales_per_day, self.max_sales_per_day, 1\n",
        "                        )\n",
        "                        for _ in range(self.num_days)\n",
        "                    ]\n",
        "                _sales_df = pd.DataFrame(\n",
        "                    {\n",
        "                        \"Date\": [\n",
        "                            self.start_date + timedelta(days=diff)\n",
        "                            for diff in range(self.num_days)\n",
        "                        ],\n",
        "                        \"Item\": [item] * self.num_days,\n",
        "                        \"Location\": [location] * self.num_days,\n",
        "                        \"Sales\": sales,\n",
        "                        \"Item Class\": [self.item_to_class[item]] * self.num_days,\n",
        "                    }\n",
        "                )\n",
        "                sales_df = pd.concat([sales_df, _sales_df], ignore_index=True)\n",
        "        \n",
        "        # hnd, ord, bkd generation\n",
        "        items = list(self.item_to_location.keys())\n",
        "        qtyoh, cost, tons, unit_cost = [], [], [], []\n",
        "        for item in items: \n",
        "            # QTYOH Randomly selected beween min_sales and max_sales\n",
        "            _qtyoh = random.randint(\n",
        "                min(0, self.min_sales_per_day), \n",
        "                self.max_sales_per_day\n",
        "            )\n",
        "            qtyoh.append(_qtyoh)\n",
        "            # Tons is randomly chosen between 1 and 10 tons\n",
        "            tons.append(\n",
        "                _qtyoh * max(1.0, 10 * random.random())\n",
        "            )\n",
        "            # Cost is randomly selected bewteen 1 and 100\n",
        "            _cost = round(max(1.0, 100 * random.random()), 2)\n",
        "            cost.append(_cost)\n",
        "            unit_cost.append(_cost / _qtyoh)\n",
        "\n",
        "        hnd_df = pd.DataFrame(\n",
        "            {\n",
        "                \"Item\": items,\n",
        "                \"QTYOH\": qtyoh,\n",
        "                \"Cost\": cost, \n",
        "                \"Tons\": tons,\n",
        "            }\n",
        "        )\n",
        "        \n",
        "        # percentage randomly selected representing the percent of qtyoh that will be ordered\n",
        "        coeff = round(random.random(), 2)\n",
        "        # Each arrival is randomly selected over the sales generation window \n",
        "        arrival_dates = [\n",
        "            self.start_date + timedelta(days=random.randint(0, self.num_days))\n",
        "            for _ in range(len(items))\n",
        "        ]\n",
        "        ord_df = pd.DataFrame(\n",
        "            {\n",
        "                \"Item\": items, \n",
        "                \"Total Cost\": [coeff * c for c in cost],\n",
        "                \"Tons\": [coeff * t for t in tons],\n",
        "                \"Quantity\": [coeff * q for q in qtyoh], \n",
        "                \"Arrival Date\": arrival_dates,\n",
        "            }\n",
        "        )\n",
        "        # shipping is chosen to be randomly between 2 and 5 days\n",
        "        bkd_df = pd.DataFrame(\n",
        "            {\n",
        "                \"Item\": items, \n",
        "                \"Ship Date\": [sd + timedelta(days=random.choice([2,3,4,5])) for sd in arrival_dates],\n",
        "                \"Qty Remain\": [(1-coeff) * q for q in qtyoh],\n",
        "            }\n",
        "        )\n",
        "\n",
        "        return sales_df, hnd_df, ord_df, bkd_df"
      ]
    },
    {
      "cell_type": "code",
      "execution_count": null,
      "metadata": {},
      "outputs": [],
      "source": []
    },
    {
      "cell_type": "markdown",
      "metadata": {
        "nteract": {
          "transient": {
            "deleting": false
          }
        }
      },
      "source": [
        "The following cell defines the parameters for the data generation including the number of time periods (days) and number of items per location and locations."
      ]
    },
    {
      "cell_type": "code",
      "execution_count": 4,
      "metadata": {
        "jupyter": {
          "outputs_hidden": false,
          "source_hidden": false
        },
        "nteract": {
          "transient": {
            "deleting": false
          }
        }
      },
      "outputs": [],
      "source": [
        "num_days = 180\n",
        "items = [f\"Item {idx}\" for idx in range(5)]\n",
        "locations = [f\"Location {idx}\" for idx in range(3)]\n",
        "item_to_class = {\n",
        "    item: random.choice([\"Item Class A\", \"Item Class B\", \"Item Class C\"])\n",
        "    for item in items\n",
        "}"
      ]
    },
    {
      "cell_type": "markdown",
      "metadata": {
        "nteract": {
          "transient": {
            "deleting": false
          }
        }
      },
      "source": [
        "The next cell invokes the synthesizer."
      ]
    },
    {
      "cell_type": "code",
      "execution_count": 5,
      "metadata": {
        "jupyter": {
          "outputs_hidden": false,
          "source_hidden": false
        },
        "nteract": {
          "transient": {
            "deleting": false
          }
        }
      },
      "outputs": [
        {
          "data": {
            "text/html": [
              "<div>\n",
              "<style scoped>\n",
              "    .dataframe tbody tr th:only-of-type {\n",
              "        vertical-align: middle;\n",
              "    }\n",
              "\n",
              "    .dataframe tbody tr th {\n",
              "        vertical-align: top;\n",
              "    }\n",
              "\n",
              "    .dataframe thead th {\n",
              "        text-align: right;\n",
              "    }\n",
              "</style>\n",
              "<table border=\"1\" class=\"dataframe\">\n",
              "  <thead>\n",
              "    <tr style=\"text-align: right;\">\n",
              "      <th></th>\n",
              "      <th>Date</th>\n",
              "      <th>Item</th>\n",
              "      <th>Location</th>\n",
              "      <th>Sales</th>\n",
              "      <th>Item Class</th>\n",
              "    </tr>\n",
              "  </thead>\n",
              "  <tbody>\n",
              "    <tr>\n",
              "      <th>0</th>\n",
              "      <td>2022-05-13</td>\n",
              "      <td>Item 0</td>\n",
              "      <td>Location 0</td>\n",
              "      <td>935</td>\n",
              "      <td>Item Class B</td>\n",
              "    </tr>\n",
              "    <tr>\n",
              "      <th>1</th>\n",
              "      <td>2022-05-14</td>\n",
              "      <td>Item 0</td>\n",
              "      <td>Location 0</td>\n",
              "      <td>949</td>\n",
              "      <td>Item Class B</td>\n",
              "    </tr>\n",
              "    <tr>\n",
              "      <th>2</th>\n",
              "      <td>2022-05-15</td>\n",
              "      <td>Item 0</td>\n",
              "      <td>Location 0</td>\n",
              "      <td>980</td>\n",
              "      <td>Item Class B</td>\n",
              "    </tr>\n",
              "    <tr>\n",
              "      <th>3</th>\n",
              "      <td>2022-05-16</td>\n",
              "      <td>Item 0</td>\n",
              "      <td>Location 0</td>\n",
              "      <td>963</td>\n",
              "      <td>Item Class B</td>\n",
              "    </tr>\n",
              "    <tr>\n",
              "      <th>4</th>\n",
              "      <td>2022-05-17</td>\n",
              "      <td>Item 0</td>\n",
              "      <td>Location 0</td>\n",
              "      <td>925</td>\n",
              "      <td>Item Class B</td>\n",
              "    </tr>\n",
              "  </tbody>\n",
              "</table>\n",
              "</div>"
            ],
            "text/plain": [
              "         Date    Item    Location Sales    Item Class\n",
              "0  2022-05-13  Item 0  Location 0   935  Item Class B\n",
              "1  2022-05-14  Item 0  Location 0   949  Item Class B\n",
              "2  2022-05-15  Item 0  Location 0   980  Item Class B\n",
              "3  2022-05-16  Item 0  Location 0   963  Item Class B\n",
              "4  2022-05-17  Item 0  Location 0   925  Item Class B"
            ]
          },
          "execution_count": 5,
          "metadata": {},
          "output_type": "execute_result"
        }
      ],
      "source": [
        "generator = SalesDataGenerator(\n",
        "    start_date=datetime.today().date() - timedelta(days=num_days),\n",
        "    num_days=num_days,\n",
        "    item_to_location={item: locations for item in items},\n",
        "    item_to_class=item_to_class,\n",
        "    max_sales_per_day=1000,\n",
        "    min_sales_per_day=-100,\n",
        ")\n",
        "sales_data, hnd_data, ord_data, bkd_data = generator.synthesize(data_model=SalesDataModel.SINUSOID)\n",
        "sales_data.head()"
      ]
    },
    {
      "cell_type": "markdown",
      "metadata": {
        "nteract": {
          "transient": {
            "deleting": false
          }
        }
      },
      "source": [
        "Next, we export the data to a local file & Register it into AML Default Datastore (GG Added 10/26/22)"
      ]
    },
    {
      "cell_type": "code",
      "execution_count": 6,
      "metadata": {
        "jupyter": {
          "outputs_hidden": false,
          "source_hidden": false
        },
        "nteract": {
          "transient": {
            "deleting": false
          }
        }
      },
      "outputs": [
        {
          "name": "stderr",
          "output_type": "stream",
          "text": [
            "Failed to extract subscription information, Exception=AttributeError; 'Logger' object has no attribute 'activity_info'\n",
            "Failed to extract subscription information, Exception=AttributeError; 'Logger' object has no attribute 'activity_info'\n",
            "Failed to extract subscription information, Exception=AttributeError; 'Logger' object has no attribute 'activity_info'\n"
          ]
        },
        {
          "name": "stdout",
          "output_type": "stream",
          "text": [
            "Dataset synthesized-sales registered.\n"
          ]
        }
      ],
      "source": [
        "sales_data.to_csv(\"./data/synthesized-sales.csv\") ###TODO - this needs to be passed by the PowerApps: \n",
        "\n",
        "# Upload data to AzureML Datastore\n",
        "ds = workspace.get_default_datastore()\n",
        "ds = Dataset.File.upload_directory(src_dir='./data/',\n",
        "            target=DataPath(ds, 'supply-chain'),\n",
        "            show_progress=False, overwrite=False)\n",
        "\n",
        "# Register file dataset with AzureML\n",
        "ds = ds.register(workspace=workspace, name=\"synthesized-sales\", description=\"Synthetic demand history data for demo\", create_new_version=True)\n",
        "\n",
        "print(f'Dataset {ds.name} registered.')"
      ]
    },
    {
      "cell_type": "markdown",
      "metadata": {
        "nteract": {
          "transient": {
            "deleting": false
          }
        }
      },
      "source": [
        "# Model Training\n",
        "\n",
        "Now we train the DeepAR Forecasting model with the registered dataset and selected hyperparameters. The training script is located at the path ../training/train.py. \n",
        "\n",
        "Note: The code below envokes the training script with the  `--local` flag. For submitting the training script to remote compute do not include this flag."
      ]
    },
    {
      "cell_type": "code",
      "execution_count": 15,
      "metadata": {},
      "outputs": [
        {
          "name": "stdout",
          "output_type": "stream",
          "text": [
            "Python 3.8.5\n"
          ]
        }
      ],
      "source": [
        "!python --version"
      ]
    },
    {
      "cell_type": "code",
      "execution_count": 16,
      "metadata": {},
      "outputs": [
        {
          "name": "stdout",
          "output_type": "stream",
          "text": [
            "/anaconda/envs/azureml_py38/bin//python\n"
          ]
        }
      ],
      "source": [
        "!which python"
      ]
    },
    {
      "cell_type": "code",
      "execution_count": 14,
      "metadata": {
        "jupyter": {
          "outputs_hidden": false,
          "source_hidden": false
        },
        "nteract": {
          "transient": {
            "deleting": false
          }
        }
      },
      "outputs": [
        {
          "name": "stdout",
          "output_type": "stream",
          "text": [
            "/anaconda/envs/supplychain/lib/python3.8/site-packages/gluonts/json.py:101: UserWarning: Using `json`-module for json-handling. Consider installing one of `orjson`, `ujson` to speed up serialization and deserialization.\n",
            "  warnings.warn(\n",
            "Failed to extract subscription information, Exception=AttributeError; 'Logger' object has no attribute 'activity_info'\n",
            "Failed to extract subscription information, Exception=AttributeError; 'Logger' object has no attribute 'activity_info'\n",
            "Failed to extract subscription information, Exception=AttributeError; 'Logger' object has no attribute 'activity_info'\n",
            "100%|██████████| 10/10 [00:02<00:00,  4.20it/s, epoch=1/5, avg_epoch_loss=0.587]\n",
            "100%|██████████| 10/10 [00:01<00:00,  6.51it/s, epoch=2/5, avg_epoch_loss=0.329]\n",
            "100%|██████████| 10/10 [00:01<00:00,  6.56it/s, epoch=3/5, avg_epoch_loss=0.195]\n",
            "100%|█████████| 10/10 [00:01<00:00,  6.61it/s, epoch=4/5, avg_epoch_loss=0.0592]\n",
            "100%|█████████| 10/10 [00:01<00:00,  6.53it/s, epoch=5/5, avg_epoch_loss=-.0675]\n"
          ]
        }
      ],
      "source": [
        "!/anaconda/envs/supplychain/bin/python training/train.py --epochs 5 --learning_rate 1e-2 --num_batches_per_epoch 10 \\\n",
        "    --dataset_name synthesized-sales --prediction_length 30 --context_length 150 --local True"
      ]
    },
    {
      "cell_type": "markdown",
      "metadata": {
        "nteract": {
          "transient": {
            "deleting": false
          }
        }
      },
      "source": [
        "# Register Model\n",
        "\n",
        "Next we use AML MLClient to retrieve required credential information and register the trained model from the saved model pickle file."
      ]
    },
    {
      "cell_type": "code",
      "execution_count": 17,
      "metadata": {
        "jupyter": {
          "outputs_hidden": false,
          "source_hidden": false
        },
        "nteract": {
          "transient": {
            "deleting": false
          }
        }
      },
      "outputs": [],
      "source": [
        "from azure.ai.ml import MLClient\n",
        "from azure.identity import DefaultAzureCredential\n",
        "workspace = Workspace.from_config()\n",
        "\n",
        "ml_client = MLClient(DefaultAzureCredential(), workspace.subscription_id, workspace.resource_group, workspace.name)"
      ]
    },
    {
      "cell_type": "code",
      "execution_count": 18,
      "metadata": {
        "jupyter": {
          "outputs_hidden": false,
          "source_hidden": false
        },
        "nteract": {
          "transient": {
            "deleting": false
          }
        }
      },
      "outputs": [
        {
          "name": "stderr",
          "output_type": "stream",
          "text": [
            "\u001b[32mUploading predictor.pkl\u001b[32m (< 1 MB): 100%|████████████████████████████████████████████████████████████████████████████████████████████████████████████████████████████████████████████████████████████████████████████████████████████████████████████████████████████████████████████████████████████████████████████████████████████████████████████████████████████████████████████████████████████████████████████████████████████████████████████████████████████████████████████████████████████████████████████████████████████████████████████████████████████████████████████████████████████████████████████████████████████████████████████████████████████████████████████████████████████████████████████████████████████████████████████████████████████████████████████████████████████████████████████████████████████████████████████████████████████████████████████████████████████████████████████████████████████████████████████████████████████████████████████████████████████| 30.0k/30.0k [00:00<00:00, 360kB/s]\u001b[0m\n",
            "\u001b[39m\n",
            "\n"
          ]
        },
        {
          "data": {
            "text/plain": [
              "Model({'job_name': None, 'is_anonymous': False, 'auto_increment_version': False, 'name': 'supply-chain-forecast-model', 'description': 'Supply Chain Forecasting Model from Local Training.', 'tags': {}, 'properties': {}, 'id': '/subscriptions/09a78dd6-f0f2-4e40-a7e8-3959c45bceb6/resourceGroups/sa_supplychain/providers/Microsoft.MachineLearningServices/workspaces/mlw-amlsc-kgdm/models/supply-chain-forecast-model/versions/2', 'Resource__source_path': None, 'base_path': '/mnt/batch/tasks/shared/LS_root/mounts/clusters/amlsc-ci001/code/Supply-Chain-Management/Code/Notebooks', 'creation_context': <azure.ai.ml.entities._system_data.SystemData object at 0x7ff5a46af2e0>, 'serialize': <msrest.serialization.Serializer object at 0x7ff5a46fad30>, 'version': '2', 'latest_version': None, 'path': 'azureml://subscriptions/09a78dd6-f0f2-4e40-a7e8-3959c45bceb6/resourceGroups/sa_supplychain/workspaces/mlw-amlsc-kgdm/datastores/workspaceblobstore/paths/LocalUpload/e2b86dff5235296e15dd12a817879642/predictor.pkl', 'datastore': None, 'utc_time_created': None, 'flavors': None, 'arm_type': 'model_version', 'type': 'custom_model'})"
            ]
          },
          "execution_count": 18,
          "metadata": {},
          "output_type": "execute_result"
        }
      ],
      "source": [
        "from azure.ai.ml.entities import Model\n",
        "from azure.ai.ml.constants import ModelType\n",
        "import pickle\n",
        "\n",
        "file_model = Model(\n",
        "    path=\"outputs/model/predictor.pkl\",\n",
        "    type=\"custom_model\",\n",
        "    name=\"supply-chain-forecast-model\",\n",
        "    description=\"Supply Chain Forecasting Model from Local Training.\"\n",
        ")\n",
        "ml_client.models.create_or_update(file_model)"
      ]
    },
    {
      "cell_type": "markdown",
      "metadata": {
        "nteract": {
          "transient": {
            "deleting": false
          }
        }
      },
      "source": [
        "# Download and run model\n",
        "\n",
        "Next, we download the registered model to prepare for inference with test data."
      ]
    },
    {
      "cell_type": "code",
      "execution_count": 20,
      "metadata": {
        "jupyter": {
          "outputs_hidden": false,
          "source_hidden": false
        },
        "nteract": {
          "transient": {
            "deleting": false
          }
        }
      },
      "outputs": [
        {
          "name": "stderr",
          "output_type": "stream",
          "text": [
            "Downloading the model LocalUpload/ea5a72d708364a89dd323796d6ec90fe/predictor.pkl at downloads//supply-chain-forecast-model\n",
            "\n",
            "/anaconda/envs/supplychain/lib/python3.8/site-packages/gluonts/json.py:101: UserWarning: Using `json`-module for json-handling. Consider installing one of `orjson`, `ujson` to speed up serialization and deserialization.\n",
            "  warnings.warn(\n"
          ]
        }
      ],
      "source": [
        "ml_client.models.download(name=\"supply-chain-forecast-model\", version=\"1\", download_path=\"downloads/\")\n",
        "predictor = pickle.load(open('downloads/supply-chain-forecast-model/predictor.pkl', 'rb'))"
      ]
    },
    {
      "cell_type": "markdown",
      "metadata": {
        "nteract": {
          "transient": {
            "deleting": false
          }
        }
      },
      "source": [
        "In order to run the model on data, we generate some additional test data and preprocess / transform it into the format expected by GluonTS models. Similar to the training data, consider replacing with real testing data (sales history time series) in your project."
      ]
    },
    {
      "cell_type": "code",
      "execution_count": 21,
      "metadata": {
        "jupyter": {
          "outputs_hidden": false,
          "source_hidden": false
        },
        "nteract": {
          "transient": {
            "deleting": false
          }
        }
      },
      "outputs": [],
      "source": [
        "from gluonts.dataset.common import load_datasets, ListDataset\n",
        "from gluonts.dataset.field_names import FieldName\n",
        "\n",
        "# Generate new data to perform inference on\n",
        "test_data = generator.synthesize(data_model=SalesDataModel.SINUSOID)\n",
        "\n",
        "start = sales_data.Date.min()\n",
        "end = sales_data.Date.max()\n",
        "ensemble = []\n",
        "dates = list(pd.date_range(start, end))\n",
        "for item in set(sales_data.Item): \n",
        "    for location in set(sales_data.Location):\n",
        "        sales = sales_data[(sales_data.Item == item) & (sales_data.Location == location)].Sales.values\n",
        "        if len(sales): \n",
        "            scale = max(abs(sales))\n",
        "            ensemble.append(\n",
        "                {\n",
        "                    \"class\": item_to_class[item],\n",
        "                    \"item\": item,\n",
        "                    \"sales\": sales,\n",
        "                    \"start\": start,\n",
        "                    \"end\": end,\n",
        "                    \"total\": sum(sales),\n",
        "                    \"scale\": scale,\n",
        "                    \"location\": location,\n",
        "                    \"sales_scaled\": sales / scale,\n",
        "                }\n",
        "            )\n",
        "ensemble = sorted(ensemble, key=lambda k: k[\"total\"], reverse=True)\n",
        "\n",
        "static_cats = [(e[\"class\"].strip(), e[\"item\"].strip(), e[\"location\"].strip()) for e in ensemble]\n",
        "\n",
        "item_to_index = {item: idx for idx, item in enumerate(set([sc[0] for sc in static_cats]))}\n",
        "item_class_to_index = {item: idx for idx, item in enumerate(set([sc[1] for sc in static_cats]))}\n",
        "location_to_index = {loc: idx for idx, loc in enumerate(set([sc[2] for sc in static_cats]))}\n",
        "\n",
        "\n",
        "test_values = np.array([np.array(e[\"sales_scaled\"]) for e in ensemble])\n",
        "\n",
        "test_ds = ListDataset([\n",
        "    {\n",
        "        FieldName.TARGET: target,\n",
        "        FieldName.START: start,\n",
        "        FieldName.FEAT_STATIC_CAT: [\n",
        "            item_to_index[sc_item], \n",
        "            item_class_to_index[sc_item_class], \n",
        "            location_to_index[sc_location]\n",
        "        ],\n",
        "    }\n",
        "    for target, (sc_item, sc_item_class, sc_location) in zip(test_values, static_cats)\n",
        "], freq=\"D\")"
      ]
    },
    {
      "cell_type": "markdown",
      "metadata": {
        "nteract": {
          "transient": {
            "deleting": false
          }
        }
      },
      "source": [
        "Perform inference on the test data with the parameter for number of samples (samples of probablistic output) being set to 250. The model will output a matrix with 250 time series based on the probablistic prediction."
      ]
    },
    {
      "cell_type": "code",
      "execution_count": 22,
      "metadata": {
        "jupyter": {
          "outputs_hidden": false,
          "source_hidden": false
        },
        "nteract": {
          "transient": {
            "deleting": false
          }
        }
      },
      "outputs": [],
      "source": [
        "from gluonts.evaluation.backtest import make_evaluation_predictions\n",
        "\n",
        "forecast_it, ts_it = make_evaluation_predictions(dataset=test_ds, predictor=predictor, num_samples=250)\n",
        "forecasts = [f for f in forecast_it]\n",
        "tss = list(ts_it)"
      ]
    },
    {
      "cell_type": "markdown",
      "metadata": {
        "nteract": {
          "transient": {
            "deleting": false
          }
        }
      },
      "source": [
        "For a selected time series (depicted example of index = 0 below), we output the mean, upper, and lower bounds of the sales predictions. The user can choose to either select pointwise min and max based on the 250 samples (section below) or choose the time series with the maximum value and the time series with the minimum value (section at the end) as the bounding outputs."
      ]
    },
    {
      "cell_type": "code",
      "execution_count": 23,
      "metadata": {
        "jupyter": {
          "outputs_hidden": false,
          "source_hidden": false
        },
        "nteract": {
          "transient": {
            "deleting": false
          }
        }
      },
      "outputs": [
        {
          "data": {
            "image/png": "[encoded data removed]",
            "text/plain": [
              "<Figure size 640x480 with 1 Axes>"
            ]
          },
          "metadata": {},
          "output_type": "display_data"
        }
      ],
      "source": [
        "# Select a time series to evaluate the predictions of idx\n",
        "idx = 0\n",
        "f, ts, scale = forecasts[idx], tss[idx], ensemble[idx]['scale']\n",
        "\n",
        "# Show the min/mean/max per time sample\n",
        "f_mean = scale * f.samples.mean(axis=0)\n",
        "f_max = scale * f.samples.max(axis=0)\n",
        "f_min = scale * f.samples.min(axis=0)\n",
        "\n",
        "plt.plot(f_mean, 'b')\n",
        "plt.plot(f_min, 'r')\n",
        "plt.plot(f_max, 'g')\n",
        "plt.gcf().tight_layout()\n",
        "plt.legend([\"Mean\", \"Min\", \"Max\"])\n",
        "plt.show()"
      ]
    },
    {
      "cell_type": "code",
      "execution_count": 24,
      "metadata": {
        "jupyter": {
          "outputs_hidden": false,
          "source_hidden": false
        },
        "nteract": {
          "transient": {
            "deleting": false
          }
        }
      },
      "outputs": [
        {
          "data": {
            "image/png": "[encoded data removed]",
            "text/plain": [
              "<Figure size 640x480 with 1 Axes>"
            ]
          },
          "metadata": {},
          "output_type": "display_data"
        }
      ],
      "source": [
        "# Extract time series forecast on sample idx\n",
        "idx = 0\n",
        "f, ts, scale = forecasts[idx], tss[idx], ensemble[idx]['scale']\n",
        "\n",
        "# Show the mean and the time samples that achieve the global min and max values\n",
        "\n",
        "r_max, _ = np.unravel_index(np.argmax(f.samples), np.array(f.samples).shape)\n",
        "r_min, _ = np.unravel_index(np.argmin(f.samples), np.array(f.samples).shape)\n",
        "\n",
        "f_mean = scale * f.samples.mean(axis=0)\n",
        "f_max = scale * f.samples[r_max, :]\n",
        "f_min = scale * f.samples[r_min, :]\n",
        "\n",
        "plt.plot(f_mean, 'b')\n",
        "plt.plot(f_min, 'r')\n",
        "plt.plot(f_max, 'g')\n",
        "plt.gcf().tight_layout()\n",
        "plt.legend([\"Mean\", \"Min\", \"Max\"])\n",
        "\n",
        "plt.show()"
      ]
    },
    {
      "cell_type": "code",
      "execution_count": null,
      "metadata": {
        "jupyter": {
          "outputs_hidden": false,
          "source_hidden": false
        },
        "nteract": {
          "transient": {
            "deleting": false
          }
        }
      },
      "outputs": [],
      "source": []
    },
    {
      "cell_type": "code",
      "execution_count": null,
      "metadata": {
        "jupyter": {
          "outputs_hidden": false,
          "source_hidden": false
        },
        "nteract": {
          "transient": {
            "deleting": false
          }
        }
      },
      "outputs": [],
      "source": []
    }
  ],
  "metadata": {
    "kernel_info": {
      "name": "supplychain"
    },
    "kernelspec": {
      "display_name": "Python 3.8.5 ('supplychain')",
      "language": "python",
      "name": "python3"
    },
    "language_info": {
      "name": "python",
      "version": "3.8.5"
    },
    "nteract": {
      "version": "nteract-front-end@1.0.0"
    },
    "vscode": {
      "interpreter": {
        "hash": "5d26f6d4e782b599352b2ffa2320499d09ac11e1fadee5b63d00d8b9c096a0ce"
      }
    }
  },
  "nbformat": 4,
  "nbformat_minor": 0
}
